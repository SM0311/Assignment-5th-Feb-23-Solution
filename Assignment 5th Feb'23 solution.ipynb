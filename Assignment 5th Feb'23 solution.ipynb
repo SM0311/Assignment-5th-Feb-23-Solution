{
 "cells": [
  {
   "cell_type": "markdown",
   "id": "c372da90-5fd0-4b81-a409-32c209ae1724",
   "metadata": {},
   "source": [
    "Q1. Explain Class and Object with respect to Object-Oriented Programming. Give a suitable example."
   ]
  },
  {
   "cell_type": "markdown",
   "id": "8653d45b-c22f-4d58-b016-aa58b8e2cca7",
   "metadata": {},
   "source": [
    "Answer 1 . In Object-Oriented Programming, a class is a blueprint or template for creating objects, while an object is an instance of a class. A class defines a set of properties and methods that are common to all objects created from that class, while an object is a specific instance of a class that has its own unique set of values for the properties defined in the class.\n",
    "\n",
    "Example - \n",
    "\n",
    "    class pwskills1:\n",
    "    \n",
    "    def __init__(self,phone_number, email_id, student_id):\n",
    "        \n",
    "        self.phone_number = phone_number\n",
    "        self.email_id = email_id\n",
    "        self.student_id = student_id\n",
    "        \n",
    "        \n",
    "    def return_student_details(self):\n",
    "        return self.phone_number, self.email_id, self.student_id"
   ]
  },
  {
   "cell_type": "code",
   "execution_count": 8,
   "id": "032de988-9e7a-4528-b4b1-19d69bac61c1",
   "metadata": {},
   "outputs": [],
   "source": [
    "class pwskills1:\n",
    "    \n",
    "    def __init__(self,phone_number, email_id, student_id):\n",
    "        self.phone_number = phone_number\n",
    "        self.email_id = email_id\n",
    "        self.student_id = student_id\n",
    "    \n",
    "    def return_student_details(self):\n",
    "        return self.phone_number, self.email_id, self.student_id\n",
    "        \n",
    "   "
   ]
  },
  {
   "cell_type": "code",
   "execution_count": 9,
   "id": "275ada7c-4b62-4936-97b7-dfc66272ad6c",
   "metadata": {},
   "outputs": [],
   "source": [
    "suraj = pwskills1(9650194653, \"msuraj2020@yahoo.com\", 1234)"
   ]
  },
  {
   "cell_type": "code",
   "execution_count": 10,
   "id": "a9566c0c-b27f-4f9a-b193-84fc9f5b68de",
   "metadata": {},
   "outputs": [
    {
     "data": {
      "text/plain": [
       "'msuraj2020@yahoo.com'"
      ]
     },
     "execution_count": 10,
     "metadata": {},
     "output_type": "execute_result"
    }
   ],
   "source": [
    "suraj.email_id"
   ]
  },
  {
   "cell_type": "code",
   "execution_count": 11,
   "id": "027aae4a-d6a2-4a14-9635-247a71de22be",
   "metadata": {},
   "outputs": [
    {
     "data": {
      "text/plain": [
       "9650194653"
      ]
     },
     "execution_count": 11,
     "metadata": {},
     "output_type": "execute_result"
    }
   ],
   "source": [
    "suraj.phone_number"
   ]
  },
  {
   "cell_type": "code",
   "execution_count": 12,
   "id": "e6fd8289-64f6-4fa8-a0ae-703444ab56bf",
   "metadata": {},
   "outputs": [],
   "source": [
    "ananya = pwskills1(9450178912, \"mananya2021@yahoo.com\", 123456)"
   ]
  },
  {
   "cell_type": "code",
   "execution_count": 13,
   "id": "8638cfa1-42ba-4dd6-ac15-0bda3de4e299",
   "metadata": {},
   "outputs": [
    {
     "data": {
      "text/plain": [
       "9450178912"
      ]
     },
     "execution_count": 13,
     "metadata": {},
     "output_type": "execute_result"
    }
   ],
   "source": [
    "ananya.phone_number"
   ]
  },
  {
   "cell_type": "markdown",
   "id": "a7962e12-b710-4d59-a924-e6be27edc33a",
   "metadata": {},
   "source": [
    "Therefore, as per the above example \"pwskills1\" is class which is basically setting of defining a blueprint for objects like \"suraj\" and \"ananya\". Class \"pwskills1\" is defining the common properties and methods like \"phone_numbers\", \"email_id\", \"student_id\" for the objects \"suraj\" and \"ananya\". However, a particular object \"suraj\" is an instance of above defined class \"pwskills1\" that has (9650194653, \"msuraj2020@yahoo.com\", 1234) unique set of values for the properties defined in \"pwskills1\". Likewise, very similar to other object \"ananya\"."
   ]
  },
  {
   "cell_type": "markdown",
   "id": "71ab48a0-ef64-466a-88dd-9b02afc9780d",
   "metadata": {},
   "source": [
    "Q2. Name the four pillars of OOPs."
   ]
  },
  {
   "cell_type": "markdown",
   "id": "b1710518-8ebe-443f-aaca-425baea5c851",
   "metadata": {},
   "source": [
    "Answer 2. The four pillars of Object-Oriented Programming (OOP) are:\n",
    "    \n",
    "    1. Encapsulation\n",
    "    2. Abstraction\n",
    "    3. Inheritance\n",
    "    4. Polymorphism"
   ]
  },
  {
   "cell_type": "markdown",
   "id": "bfbdd569-2f90-420d-8c11-d9abaf653c2e",
   "metadata": {},
   "source": [
    "Q3. Explain why the _ _ _init__ _() function is used. Give a suitable example."
   ]
  },
  {
   "cell_type": "markdown",
   "id": "fb2fc47b-9f3a-4b11-a94e-5af1d4c180d8",
   "metadata": {},
   "source": [
    "Answer 3. The __init__() function is a special method that is called when an object is created from a class. It is used to initialize the properties of the object with default or user-specified values. The __init__() function is also known as a constructor, as it constructs or creates the object.\n",
    "\n",
    "Example - \n",
    "\n",
    "class Person:\n",
    "\n",
    "    def __init__(self, name, age):\n",
    "        self.name = name\n",
    "        self.age = age\n",
    "    \n",
    "    def person_details(self):\n",
    "        return self.name, self.age\n",
    "\n",
    "\n"
   ]
  },
  {
   "cell_type": "code",
   "execution_count": 14,
   "id": "bd785511-5752-47e8-b9b1-0140a883d9a0",
   "metadata": {},
   "outputs": [],
   "source": [
    "class Person:\n",
    "    def __init__(self, name, age):\n",
    "        self.name = name\n",
    "        self.age = age\n",
    "    \n",
    "    def person_details(self):\n",
    "        return self.name, self.age\n"
   ]
  },
  {
   "cell_type": "code",
   "execution_count": 15,
   "id": "b7de2bcf-fb81-4ca4-bc9c-50bcf28c9ca6",
   "metadata": {},
   "outputs": [],
   "source": [
    "person1 = Person(\"Virat Kohli\", 34)"
   ]
  },
  {
   "cell_type": "code",
   "execution_count": 16,
   "id": "3e40478d-5ca9-4cb0-b847-b2e575b883f8",
   "metadata": {},
   "outputs": [
    {
     "data": {
      "text/plain": [
       "'Virat Kohli'"
      ]
     },
     "execution_count": 16,
     "metadata": {},
     "output_type": "execute_result"
    }
   ],
   "source": [
    "person1.name"
   ]
  },
  {
   "cell_type": "code",
   "execution_count": 17,
   "id": "d0e2b6d8-5470-416e-ab06-8a8117d9550d",
   "metadata": {},
   "outputs": [
    {
     "data": {
      "text/plain": [
       "34"
      ]
     },
     "execution_count": 17,
     "metadata": {},
     "output_type": "execute_result"
    }
   ],
   "source": [
    "person1.age"
   ]
  },
  {
   "cell_type": "code",
   "execution_count": 19,
   "id": "c4f22281-b8cb-40e0-afe5-240eb80e5cc7",
   "metadata": {},
   "outputs": [
    {
     "data": {
      "text/plain": [
       "('Virat Kohli', 34)"
      ]
     },
     "execution_count": 19,
     "metadata": {},
     "output_type": "execute_result"
    }
   ],
   "source": [
    "person1.person_details()"
   ]
  },
  {
   "cell_type": "code",
   "execution_count": 20,
   "id": "2801b52b-f93b-46c9-9255-5dddaa547ee3",
   "metadata": {},
   "outputs": [],
   "source": [
    "person2 = Person(\"Rohit Sharma\", 36)"
   ]
  },
  {
   "cell_type": "code",
   "execution_count": 21,
   "id": "f8f952b1-2061-406e-afac-3f2b905fe9e8",
   "metadata": {},
   "outputs": [
    {
     "data": {
      "text/plain": [
       "'Rohit Sharma'"
      ]
     },
     "execution_count": 21,
     "metadata": {},
     "output_type": "execute_result"
    }
   ],
   "source": [
    "person2.name"
   ]
  },
  {
   "cell_type": "code",
   "execution_count": 22,
   "id": "19263743-740d-42e9-8209-a4d502afc602",
   "metadata": {},
   "outputs": [
    {
     "data": {
      "text/plain": [
       "36"
      ]
     },
     "execution_count": 22,
     "metadata": {},
     "output_type": "execute_result"
    }
   ],
   "source": [
    "person2.age"
   ]
  },
  {
   "cell_type": "code",
   "execution_count": 23,
   "id": "f1c0af0a-7ca8-42ec-8a2b-ec77f10f7758",
   "metadata": {},
   "outputs": [
    {
     "data": {
      "text/plain": [
       "('Rohit Sharma', 36)"
      ]
     },
     "execution_count": 23,
     "metadata": {},
     "output_type": "execute_result"
    }
   ],
   "source": [
    "person2.person_details()"
   ]
  },
  {
   "cell_type": "markdown",
   "id": "b13c3064-50bb-40e6-8823-1c6aca329d7f",
   "metadata": {},
   "source": [
    "Q4. Why self is used in OOPs?"
   ]
  },
  {
   "cell_type": "markdown",
   "id": "096c8140-3cab-40f5-b8b0-f4cb90111006",
   "metadata": {},
   "source": [
    "Answer 4. In Object-Oriented Programming (OOP), **self** is used as a reference to the current instance of a class. It is a special keyword that is used as the first parameter of instance methods in Python.\n",
    "\n",
    "When a method is called on an object, the object itself is automatically passed as the first argument to the method. By convention, this parameter is named **self** and is used to refer to the object itself within the method. This allows the method to access and modify the properties and methods of the object."
   ]
  },
  {
   "cell_type": "markdown",
   "id": "7683abd6-d086-46ff-849c-f53d480a7ae2",
   "metadata": {},
   "source": [
    "Q5. What is inheritance? Give an example for each type of inheritance."
   ]
  },
  {
   "cell_type": "markdown",
   "id": "79a7d2da-3ab1-437b-9a65-ef0177551168",
   "metadata": {},
   "source": [
    "Answer 5. Inheritance is a mechanism in object-oriented programming that allows a class to inherit properties and methods from another class. Inheritance is used to promote code reuse and allows for more efficient programming by reducing redundant code.\n",
    "\n",
    "There are five types of inheritance.\n",
    "\n",
    " 1. **Single inheritance** : In single inheritance, a class inherits properties and methods from a single parent class.\n",
    " \n",
    "**Example** - \n",
    "\n",
    "class Animal:\n",
    "    def __init__(self, name):\n",
    "        self.name = name\n",
    "\n",
    "    def eat(self):\n",
    "        print(f\"{self.name} is eating\")\n",
    "\n",
    "class Dog(Animal):\n",
    "    def bark(self):\n",
    "        print(\"Woof!\")\n",
    "\n",
    "dog = Dog(\"Fido\")\n",
    "dog.eat()  # Output: Fido is eating\n",
    "dog.bark()  # Output: Woof!\n",
    "\n",
    "\n",
    "  2. **Multiple inheritance** : In multiple inheritance, a class inherits properties and methods from multiple parent classes.\n",
    "  \n",
    "**Example** - \n",
    "\n",
    "class Person:\n",
    "    def talk(self):\n",
    "        print(\"Person is talking\")\n",
    "\n",
    "class Engineer:\n",
    "    def work(self):\n",
    "        print(\"Engineer is working\")\n",
    "\n",
    "class SoftwareEngineer(Person, Engineer):\n",
    "    def code(self):\n",
    "        print(\"SoftwareEngineer is coding\")\n",
    "\n",
    "engineer = SoftwareEngineer()\n",
    "engineer.talk()  # Output: Person is talking\n",
    "engineer.work()  # Output: Engineer is working\n",
    "engineer.code()  # Output: SoftwareEngineer is coding\n",
    "\n",
    " 3. **Hierarchical inheritance: In hierarchical inheritance, multiple derived classes inherit from a single base class.\n",
    " \n",
    "**Example** - \n",
    "\n",
    "\n",
    "class Animal:\n",
    "    def __init__(self, name):\n",
    "        self.name = name\n",
    "\n",
    "    def eat(self):\n",
    "        print(f\"{self.name} is eating\")\n",
    "\n",
    "class Dog(Animal):\n",
    "    def bark(self):\n",
    "        print(\"Woof!\")\n",
    "\n",
    "class Cat(Animal):\n",
    "    def meow(self):\n",
    "        print(\"Meow!\")\n",
    "\n",
    "dog = Dog(\"Fido\")\n",
    "dog.eat()  # Output: Fido is eating\n",
    "dog.bark()  # Output: Woof!\n",
    "\n",
    "cat = Cat(\"Whiskers\")\n",
    "cat.eat()  # Output: Whiskers is eating\n",
    "cat.meow()  # Output: Meow!\n",
    "\n",
    "4. **Multilevel inheritance: In multilevel inheritance, a derived class inherits properties and methods from a parent class, which in turn inherits from another parent class.\n",
    "\n",
    "**Example** -\n",
    "\n",
    "class Animal:\n",
    "    def __init__(self, name):\n",
    "        self.name = name\n",
    "\n",
    "    def eat(self):\n",
    "        print(f\"{self.name} is eating\")\n",
    "\n",
    "class Dog(Animal):\n",
    "    def bark(self):\n",
    "        print(\"Woof!\")\n",
    "\n",
    "class GuardDog(Dog):\n",
    "    def guard(self):\n",
    "        print(\"Guarding\")\n",
    "\n",
    "guard_dog = GuardDog(\"Max\")\n",
    "guard_dog.eat()    # Output: Max is eating\n",
    "guard_dog.bark()   # Output: Wo\n"
   ]
  },
  {
   "cell_type": "code",
   "execution_count": null,
   "id": "bb923c48-6e55-4666-817c-40f9446befc6",
   "metadata": {},
   "outputs": [],
   "source": []
  }
 ],
 "metadata": {
  "kernelspec": {
   "display_name": "Python 3 (ipykernel)",
   "language": "python",
   "name": "python3"
  },
  "language_info": {
   "codemirror_mode": {
    "name": "ipython",
    "version": 3
   },
   "file_extension": ".py",
   "mimetype": "text/x-python",
   "name": "python",
   "nbconvert_exporter": "python",
   "pygments_lexer": "ipython3",
   "version": "3.10.8"
  }
 },
 "nbformat": 4,
 "nbformat_minor": 5
}
